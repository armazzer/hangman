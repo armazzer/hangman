{
 "cells": [
  {
   "cell_type": "code",
   "execution_count": null,
   "metadata": {},
   "outputs": [],
   "source": [
    "import milestone_2\n",
    "\n",
    "def check_guess(guess):\n",
    "    guess_lower = guess.lower()\n",
    "    if guess_lower in milestone_2.word:\n",
    "        print(f\"Good guess! {guess_lower} is in the word\")\n",
    "    else:\n",
    "        print(f\"Sorry, {guess_lower} is not in the word. Try again\")\n",
    "\n",
    "def ask_for_input():\n",
    "    while True:\n",
    "        guess = input(\"Please enter a letter of your choice \")\n",
    "        if len(guess) == 1 and guess.isalpha() == True:\n",
    "            break    \n",
    "        else:\n",
    "            print(\"Invalid letter. Please enter a single alphabetical character\")\n",
    "\n",
    "    check_guess(guess)\n",
    "\n",
    "ask_for_input()"
   ]
  },
  {
   "cell_type": "code",
   "execution_count": 23,
   "metadata": {},
   "outputs": [
    {
     "name": "stdout",
     "output_type": "stream",
     "text": [
      "['_', '_', '_', '_', '_', '_', '_']\n",
      "{'p', 'o', 'r', 's', 'a', 'w'}\n",
      "6\n",
      "['_', '_', '_', '_', '_', '_', '_']\n",
      "6\n",
      "[3, 4]\n",
      "['_', '_', '_', '_', '_', '_', 'w']\n",
      "['_', '_', '_', '_', '_', '_', 'w']\n"
     ]
    }
   ],
   "source": [
    "word = \"sparrow\"\n",
    "word_guessed = []\n",
    "for _ in word:\n",
    "    word_guessed.append(\"_\")\n",
    "print(word_guessed)\n",
    "\n",
    "def unknown_letters():\n",
    "    unique_letters_start = [char for char in word]\n",
    "    unique_letters_set = set()\n",
    "    unique_letters_set.update(unique_letters_start) \n",
    "    return unique_letters_set\n",
    "\n",
    "result = unknown_letters()\n",
    "print(result)\n",
    "print(len(result))\n",
    "\n",
    "word_guessed_2 = [\"_\" for _ in word]\n",
    "print(word_guessed_2)\n",
    "word_as_list = len(set([_ for _ in word]))\n",
    "print(word_as_list)\n",
    "\n",
    "position_char = word.index(\"r\")\n",
    "print([pos for pos, char in enumerate(word) if char == \"r\"])\n",
    "\n",
    "guess = \"w\"\n",
    "for char in word:\n",
    "    if char == guess:\n",
    "        position_char = word.index(char)\n",
    "        word_guessed[position_char] = guess\n",
    "print(word_guessed)\n",
    "print(word_guessed)"
   ]
  },
  {
   "cell_type": "code",
   "execution_count": null,
   "metadata": {},
   "outputs": [],
   "source": []
  }
 ],
 "metadata": {
  "kernelspec": {
   "display_name": "Python 3",
   "language": "python",
   "name": "python3"
  },
  "language_info": {
   "codemirror_mode": {
    "name": "ipython",
    "version": 3
   },
   "file_extension": ".py",
   "mimetype": "text/x-python",
   "name": "python",
   "nbconvert_exporter": "python",
   "pygments_lexer": "ipython3",
   "version": "3.11.6"
  }
 },
 "nbformat": 4,
 "nbformat_minor": 2
}
